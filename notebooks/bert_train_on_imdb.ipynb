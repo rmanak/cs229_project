{
 "cells": [
  {
   "cell_type": "code",
   "execution_count": 1,
   "id": "2178ff84",
   "metadata": {},
   "outputs": [],
   "source": [
    "import tensorflow as tf\n",
    "import pandas as pd\n",
    "import numpy as np\n",
    "import tensorflow_hub as hub\n",
    "import tensorflow_text as text\n",
    "\n",
    "\n",
    "from tensorflow.keras import layers\n",
    "from tensorflow.keras import losses\n",
    "from official.nlp import optimization  # to create AdamW optimizer\n",
    "\n",
    "from sklearn.model_selection import train_test_split"
   ]
  },
  {
   "cell_type": "code",
   "execution_count": 2,
   "id": "470093b9",
   "metadata": {},
   "outputs": [],
   "source": [
    "# !pip install datasets\n",
    "# !pip install -U \"tensorflow-text==2.13.*\"\n",
    "# !pip install \"tf-models-official==2.13.*\""
   ]
  },
  {
   "cell_type": "code",
   "execution_count": 3,
   "id": "98790cd1",
   "metadata": {},
   "outputs": [],
   "source": [
    "# downloaded from here:\n",
    "# https://huggingface.co/datasets/TimKoornstra/synthetic-financial-tweets-sentiment/tree/main/data\n",
    "# synthetic = pd.read_parquet(\"train-00000-of-00001.parquet\")\n",
    "\n",
    "# label definition is according to the doc:\n",
    "#. A numerical label indicating the sentiment of the tweet, \n",
    "# with '1' for bullish, '2' for bearish, and '0' for neutral sentiments."
   ]
  },
  {
   "cell_type": "code",
   "execution_count": 4,
   "id": "815a589c",
   "metadata": {},
   "outputs": [],
   "source": [
    "# tfhub_handle_encoder = \"https://tfhub.dev/tensorflow/small_bert/bert_en_uncased_L-12_H-768_A-12/1\"\n",
    "# tfhub_handle_encoder = \"https://tfhub.dev/tensorflow/small_bert/bert_en_uncased_L-6_H-512_A-8/1\"\n",
    "tfhub_handle_encoder = \"https://tfhub.dev/tensorflow/small_bert/bert_en_uncased_L-4_H-512_A-8/1\"\n",
    "tfhub_handle_preprocess = \"https://tfhub.dev/tensorflow/bert_en_uncased_preprocess/3\""
   ]
  },
  {
   "cell_type": "code",
   "execution_count": 5,
   "id": "78bb596b",
   "metadata": {},
   "outputs": [],
   "source": [
    "# def get_encoding_model(tfhub_handle_encoder):\n",
    "#     input_layer = tf.keras.layers.Input(shape=(), dtype=tf.string, name='input_text')\n",
    "    \n",
    "#     input_encoded = hub.KerasLayer(tfhub_handle_preprocess, name='preprocessing')(input_layer)\n",
    "    \n",
    "#     return tf.keras.Model(input_layer, input_encoded)"
   ]
  },
  {
   "cell_type": "code",
   "execution_count": 6,
   "id": "307f3144",
   "metadata": {},
   "outputs": [],
   "source": [
    "# encoding_model = get_encoding_model(tfhub_handle_encoder)"
   ]
  },
  {
   "cell_type": "code",
   "execution_count": 7,
   "id": "6804d373",
   "metadata": {},
   "outputs": [],
   "source": [
    "# from tqdm import tqdm"
   ]
  },
  {
   "cell_type": "code",
   "execution_count": 8,
   "id": "fd239162",
   "metadata": {},
   "outputs": [
    {
     "data": {
      "text/html": [
       "<div>\n",
       "<style scoped>\n",
       "    .dataframe tbody tr th:only-of-type {\n",
       "        vertical-align: middle;\n",
       "    }\n",
       "\n",
       "    .dataframe tbody tr th {\n",
       "        vertical-align: top;\n",
       "    }\n",
       "\n",
       "    .dataframe thead th {\n",
       "        text-align: right;\n",
       "    }\n",
       "</style>\n",
       "<table border=\"1\" class=\"dataframe\">\n",
       "  <thead>\n",
       "    <tr style=\"text-align: right;\">\n",
       "      <th></th>\n",
       "      <th>Unnamed: 0</th>\n",
       "      <th>text</th>\n",
       "      <th>label</th>\n",
       "    </tr>\n",
       "  </thead>\n",
       "  <tbody>\n",
       "    <tr>\n",
       "      <th>0</th>\n",
       "      <td>14149</td>\n",
       "      <td>I had two reasons for watching this swashbuckl...</td>\n",
       "      <td>0</td>\n",
       "    </tr>\n",
       "    <tr>\n",
       "      <th>1</th>\n",
       "      <td>8946</td>\n",
       "      <td>This is, in my opinion, a very good film, espe...</td>\n",
       "      <td>1</td>\n",
       "    </tr>\n",
       "    <tr>\n",
       "      <th>2</th>\n",
       "      <td>22378</td>\n",
       "      <td>I knew this film was supposed to be so bad it ...</td>\n",
       "      <td>0</td>\n",
       "    </tr>\n",
       "    <tr>\n",
       "      <th>3</th>\n",
       "      <td>12162</td>\n",
       "      <td>When the US entered World War I, the governmen...</td>\n",
       "      <td>1</td>\n",
       "    </tr>\n",
       "    <tr>\n",
       "      <th>4</th>\n",
       "      <td>4879</td>\n",
       "      <td>Few movies can be viewed almost 60 years later...</td>\n",
       "      <td>1</td>\n",
       "    </tr>\n",
       "  </tbody>\n",
       "</table>\n",
       "</div>"
      ],
      "text/plain": [
       "   Unnamed: 0                                               text  label\n",
       "0       14149  I had two reasons for watching this swashbuckl...      0\n",
       "1        8946  This is, in my opinion, a very good film, espe...      1\n",
       "2       22378  I knew this film was supposed to be so bad it ...      0\n",
       "3       12162  When the US entered World War I, the governmen...      1\n",
       "4        4879  Few movies can be viewed almost 60 years later...      1"
      ]
     },
     "execution_count": 8,
     "metadata": {},
     "output_type": "execute_result"
    }
   ],
   "source": [
    "df = pd.read_csv(\"./imdb_full_dataset.csv\")\n",
    "df.head()"
   ]
  },
  {
   "cell_type": "code",
   "execution_count": 9,
   "id": "71f311e5",
   "metadata": {},
   "outputs": [],
   "source": [
    "def preprocess_text(input_text: str) -> str:\n",
    "    s = input_text.lower()\n",
    "    s = (s\n",
    "         .replace('<br />', ' ')\n",
    "         .replace('`', \"'\")\n",
    "         .replace('´',\"'\")\n",
    "         .replace(\" '\", ' \"')\n",
    "         .replace(\"-\", \" - \")\n",
    "         .replace(\"/\", \" \")\n",
    "         .replace(\"_\", \" \")\n",
    "        )\n",
    "    return s"
   ]
  },
  {
   "cell_type": "code",
   "execution_count": 10,
   "id": "5a8fc40a",
   "metadata": {},
   "outputs": [],
   "source": [
    "df[\"text\"] = df[\"text\"].map(preprocess_text)"
   ]
  },
  {
   "cell_type": "code",
   "execution_count": 11,
   "id": "3731db31",
   "metadata": {},
   "outputs": [],
   "source": [
    "text_train, text_test, y_train, y_test = train_test_split(\n",
    "    df[\"text\"], \n",
    "    df[\"label\"], \n",
    "    test_size=0.2,\n",
    "    random_state=1,\n",
    ")"
   ]
  },
  {
   "cell_type": "code",
   "execution_count": 12,
   "id": "26dd1f8c",
   "metadata": {},
   "outputs": [],
   "source": [
    "# corpus = list(df[\"text\"])"
   ]
  },
  {
   "cell_type": "code",
   "execution_count": 13,
   "id": "a0f0e5a1",
   "metadata": {},
   "outputs": [],
   "source": [
    "# def batchify(lst, batch_size=16): \n",
    "#     indx_ = 0\n",
    "    \n",
    "#     while indx_ < len(lst):\n",
    "#         yield lst[indx_: indx_ + batch_size]\n",
    "#         indx_ += batch_size"
   ]
  },
  {
   "cell_type": "code",
   "execution_count": 14,
   "id": "9a2b9e42",
   "metadata": {},
   "outputs": [],
   "source": [
    "# batch_size = 16\n",
    "# encoder_seq_length = 128\n",
    "\n",
    "# batches = list(batchify(corpus, batch_size=batch_size))\n",
    "\n",
    "# input_type_ids = np.zeros((len(corpus), encoder_seq_length), dtype=np.int32)\n",
    "# input_mask = np.zeros((len(corpus), encoder_seq_length), dtype=np.int32)\n",
    "# input_word_ids =  np.zeros((len(corpus), encoder_seq_length), dtype=np.int32)\n",
    "\n",
    "# indx_ = 0\n",
    "# for batch in tqdm(batches):\n",
    "#     batch_len = len(batch)\n",
    "#     x = encoding_model(tf.convert_to_tensor(batch))\n",
    "#     input_type_ids[indx_: indx_ + batch_len, :] = x['input_type_ids'].numpy()\n",
    "#     input_mask[indx_: indx_ + batch_len, :] = x['input_mask'].numpy()\n",
    "#     input_word_ids[indx_: indx_ + batch_len, :] = x['input_word_ids'].numpy()\n",
    "#     indx_ += batch_len"
   ]
  },
  {
   "cell_type": "code",
   "execution_count": 15,
   "id": "b2d3562c",
   "metadata": {},
   "outputs": [],
   "source": [
    "def get_model(tfhub_handle_encoder, tfhub_handle_preprocess=None):\n",
    "    \n",
    "#     input_type_ids = tf.keras.layers.Input(shape=(None,), dtype=tf.int32, name='input_type_ids')\n",
    "    \n",
    "#     input_mask = tf.keras.layers.Input(shape=(None,), dtype=tf.int32, name='input_mask')\n",
    "    \n",
    "#     input_word_ids = tf.keras.layers.Input(shape=(None,), dtype=tf.int32, name='input_word_ids')\n",
    "    \n",
    "#     input_encoded = {\n",
    "#         'input_type_ids': input_type_ids,\n",
    "#         'input_mask': input_mask,\n",
    "#         'input_word_ids': input_word_ids,\n",
    "#     }\n",
    "\n",
    "    text_input = tf.keras.layers.Input(shape=(), dtype=tf.string, name='text')\n",
    "    \n",
    "    bert_preprocess = hub.load(tfhub_handle_preprocess)\n",
    "    \n",
    "    # without this by default the sequence\n",
    "    # gets truncated to 128 which is too short.\n",
    "    \n",
    "    tokenizer = hub.KerasLayer(bert_preprocess.tokenize, name='tokenizer')\n",
    "    \n",
    "    tokenized = tokenizer(text_input)\n",
    "    \n",
    "    packer = hub.KerasLayer(\n",
    "        bert_preprocess.bert_pack_inputs,\n",
    "        arguments=dict(seq_length=512),\n",
    "        name='packer',\n",
    "    )\n",
    "\n",
    "    encoder_inputs = packer([tokenized]) \n",
    "    \n",
    "\n",
    "    encoder = hub.KerasLayer(tfhub_handle_encoder, trainable=True, name='BERT_encoder')\n",
    "    \n",
    "    outputs = encoder(encoder_inputs)\n",
    "    \n",
    "    x = outputs['pooled_output']\n",
    "    \n",
    "    x = tf.keras.layers.Dropout(0.5)(x)\n",
    "    \n",
    "    x = tf.keras.layers.Dense(16, activation=\"relu\")(x)\n",
    "    \n",
    "    x = tf.keras.layers.Dropout(0.1)(x)\n",
    "    \n",
    "    x = tf.keras.layers.Dense(1, activation=\"sigmoid\", name='classifier')(x)\n",
    "\n",
    "    \n",
    "    return tf.keras.Model(text_input, x)\n",
    "\n",
    "#     bert_output = hub.KerasLayer(tfhub_handle_encoder, trainable=True, name='BERT_encoder')(input_encoded)\n",
    "    \n",
    "#     x = bert_output['pooled_output']\n",
    "    \n",
    "#     x = tf.keras.layers.Dropout(0.1)(x)\n",
    "    \n",
    "#     x = tf.keras.layers.Dense(1, activation=\"sigmoid\", name='classifier')(x)\n",
    "    \n",
    "#     return tf.keras.Model([input_type_ids, input_mask, input_word_ids], x)"
   ]
  },
  {
   "cell_type": "code",
   "execution_count": 16,
   "id": "6e41de8c",
   "metadata": {},
   "outputs": [],
   "source": [
    "model = get_model(tfhub_handle_encoder, \n",
    "                  tfhub_handle_preprocess=tfhub_handle_preprocess)"
   ]
  },
  {
   "cell_type": "code",
   "execution_count": 17,
   "id": "a12e8774",
   "metadata": {
    "scrolled": true
   },
   "outputs": [
    {
     "name": "stdout",
     "output_type": "stream",
     "text": [
      "Model: \"model\"\n",
      "__________________________________________________________________________________________________\n",
      " Layer (type)                Output Shape                 Param #   Connected to                  \n",
      "==================================================================================================\n",
      " text (InputLayer)           [(None,)]                    0         []                            \n",
      "                                                                                                  \n",
      " tokenizer (KerasLayer)      (None, None, None)           0         ['text[0][0]']                \n",
      "                                                                                                  \n",
      " packer (KerasLayer)         {'input_type_ids': (None,    0         ['tokenizer[0][0]']           \n",
      "                             512),                                                                \n",
      "                              'input_word_ids': (None,                                            \n",
      "                             512),                                                                \n",
      "                              'input_mask': (None, 512)                                           \n",
      "                             }                                                                    \n",
      "                                                                                                  \n",
      " BERT_encoder (KerasLayer)   {'default': (None, 512),     2876364   ['packer[0][0]',              \n",
      "                              'pooled_output': (None, 5   9          'packer[0][1]',              \n",
      "                             12),                                    'packer[0][2]']              \n",
      "                              'encoder_outputs': [(None                                           \n",
      "                             , 512, 512),                                                         \n",
      "                              (None, 512, 512),                                                   \n",
      "                              (None, 512, 512),                                                   \n",
      "                              (None, 512, 512)],                                                  \n",
      "                              'sequence_output': (None,                                           \n",
      "                              512, 512)}                                                          \n",
      "                                                                                                  \n",
      " dropout (Dropout)           (None, 512)                  0         ['BERT_encoder[0][5]']        \n",
      "                                                                                                  \n",
      " dense (Dense)               (None, 16)                   8208      ['dropout[0][0]']             \n",
      "                                                                                                  \n",
      " dropout_1 (Dropout)         (None, 16)                   0         ['dense[0][0]']               \n",
      "                                                                                                  \n",
      " classifier (Dense)          (None, 1)                    17        ['dropout_1[0][0]']           \n",
      "                                                                                                  \n",
      "==================================================================================================\n",
      "Total params: 28771874 (109.76 MB)\n",
      "Trainable params: 28771873 (109.76 MB)\n",
      "Non-trainable params: 1 (1.00 Byte)\n",
      "__________________________________________________________________________________________________\n"
     ]
    }
   ],
   "source": [
    "model.summary()"
   ]
  },
  {
   "cell_type": "code",
   "execution_count": 18,
   "id": "bd37297c",
   "metadata": {},
   "outputs": [],
   "source": [
    "epochs = 10\n",
    "batch_size = 32\n",
    "\n",
    "steps_per_epoch = len(df) // batch_size\n",
    "num_train_steps = steps_per_epoch * epochs\n",
    "num_warmup_steps = int(0.1*num_train_steps)\n",
    "\n",
    "init_lr = 3e-5"
   ]
  },
  {
   "cell_type": "code",
   "execution_count": 19,
   "id": "4cc89a6a",
   "metadata": {},
   "outputs": [],
   "source": [
    "# for some reason this optimizer is significantly better than Adam!\n",
    "# Adam doesn't even converge for train error!\n",
    "optimizer = optimization.create_optimizer(init_lr=init_lr,\n",
    "                                          num_train_steps=num_train_steps,\n",
    "                                          num_warmup_steps=num_warmup_steps,\n",
    "                                          optimizer_type='adamw')"
   ]
  },
  {
   "cell_type": "code",
   "execution_count": 20,
   "id": "f45af9e6",
   "metadata": {},
   "outputs": [],
   "source": [
    "model.compile(loss=losses.BinaryCrossentropy(),\n",
    "              # optimizer='adam',\n",
    "              optimizer=optimizer,\n",
    "              metrics=tf.metrics.BinaryAccuracy(threshold=0.5))"
   ]
  },
  {
   "cell_type": "code",
   "execution_count": 21,
   "id": "54206824",
   "metadata": {},
   "outputs": [
    {
     "name": "stdout",
     "output_type": "stream",
     "text": [
      "Epoch 1/10\n",
      "625/625 [==============================] - 216s 335ms/step - loss: 0.5119 - binary_accuracy: 0.7326 - val_loss: 0.3173 - val_binary_accuracy: 0.8792\n",
      "Epoch 2/10\n",
      "625/625 [==============================] - 208s 333ms/step - loss: 0.2829 - binary_accuracy: 0.8898 - val_loss: 0.3340 - val_binary_accuracy: 0.8728\n",
      "Epoch 3/10\n",
      "625/625 [==============================] - 209s 334ms/step - loss: 0.2001 - binary_accuracy: 0.9279 - val_loss: 0.2587 - val_binary_accuracy: 0.9102\n",
      "Epoch 4/10\n",
      "625/625 [==============================] - 208s 333ms/step - loss: 0.1354 - binary_accuracy: 0.9556 - val_loss: 0.3495 - val_binary_accuracy: 0.9042\n",
      "Epoch 5/10\n",
      "625/625 [==============================] - 208s 333ms/step - loss: 0.1045 - binary_accuracy: 0.9711 - val_loss: 0.3833 - val_binary_accuracy: 0.9058\n",
      "Epoch 6/10\n",
      "625/625 [==============================] - 209s 335ms/step - loss: 0.0726 - binary_accuracy: 0.9806 - val_loss: 0.4634 - val_binary_accuracy: 0.9076\n",
      "Epoch 7/10\n",
      "625/625 [==============================] - 209s 335ms/step - loss: 0.0472 - binary_accuracy: 0.9891 - val_loss: 0.5256 - val_binary_accuracy: 0.9136\n",
      "Epoch 8/10\n",
      "625/625 [==============================] - 209s 334ms/step - loss: 0.0335 - binary_accuracy: 0.9925 - val_loss: 0.5588 - val_binary_accuracy: 0.9132\n",
      "Epoch 9/10\n",
      "625/625 [==============================] - 209s 335ms/step - loss: 0.0310 - binary_accuracy: 0.9934 - val_loss: 0.5874 - val_binary_accuracy: 0.9120\n",
      "Epoch 10/10\n",
      "625/625 [==============================] - 208s 333ms/step - loss: 0.0204 - binary_accuracy: 0.9956 - val_loss: 0.6310 - val_binary_accuracy: 0.9104\n"
     ]
    }
   ],
   "source": [
    "history = model.fit(\n",
    "    text_train,\n",
    "    y_train,\n",
    "    validation_data=(text_test, y_test),\n",
    "    epochs=epochs,\n",
    "    batch_size=batch_size,\n",
    ")"
   ]
  },
  {
   "cell_type": "code",
   "execution_count": 41,
   "id": "71f44c3f",
   "metadata": {},
   "outputs": [],
   "source": [
    "model = tf.saved_model.load('bert_trained_on_imdb.saved_model')"
   ]
  },
  {
   "cell_type": "code",
   "execution_count": 43,
   "id": "2e26182d",
   "metadata": {},
   "outputs": [
    {
     "data": {
      "text/plain": [
       "<tf.Tensor: shape=(3, 1), dtype=float32, numpy=\n",
       "array([[9.9978596e-01],\n",
       "       [2.3196169e-05],\n",
       "       [3.5396297e-05]], dtype=float32)>"
      ]
     },
     "execution_count": 43,
     "metadata": {},
     "output_type": "execute_result"
    }
   ],
   "source": [
    "model.__call__(text_train[:3], )"
   ]
  },
  {
   "cell_type": "code",
   "execution_count": 44,
   "id": "d659a8be",
   "metadata": {},
   "outputs": [
    {
     "data": {
      "text/plain": [
       "<tf.Tensor: shape=(1, 1), dtype=float32, numpy=array([[0.9998093]], dtype=float32)>"
      ]
     },
     "execution_count": 44,
     "metadata": {},
     "output_type": "execute_result"
    }
   ],
   "source": [
    "model.__call__([\"\"\"We achieved revenue records across more than two dozen countries and regions,\n",
    "including all-time records in Europe and rest of Asia-Pacific. We also continue to see\n",
    "strong double-digit growth in many emerging markets with all-time records in Malaysia,\n",
    "Mexico, The Philippines, Poland, and Turkey, as well as December quarter records in\n",
    "India, Indonesia, Saudi Arabia, and Chile.\"\"\"], training=False)"
   ]
  },
  {
   "cell_type": "code",
   "execution_count": null,
   "id": "81a77839",
   "metadata": {},
   "outputs": [],
   "source": []
  }
 ],
 "metadata": {
  "kernelspec": {
   "display_name": "conda_tensorflow2_p310",
   "language": "python",
   "name": "conda_tensorflow2_p310"
  },
  "language_info": {
   "codemirror_mode": {
    "name": "ipython",
    "version": 3
   },
   "file_extension": ".py",
   "mimetype": "text/x-python",
   "name": "python",
   "nbconvert_exporter": "python",
   "pygments_lexer": "ipython3",
   "version": "3.10.13"
  }
 },
 "nbformat": 4,
 "nbformat_minor": 5
}
