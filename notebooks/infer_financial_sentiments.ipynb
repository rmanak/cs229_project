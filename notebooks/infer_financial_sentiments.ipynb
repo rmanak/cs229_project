{
 "cells": [
  {
   "cell_type": "code",
   "execution_count": 34,
   "id": "321b4ef9",
   "metadata": {},
   "outputs": [],
   "source": [
    "import tensorflow as tf\n",
    "import pandas as pd\n",
    "\n",
    "import nltk\n",
    "import numpy as np\n"
   ]
  },
  {
   "cell_type": "code",
   "execution_count": 7,
   "id": "d3be8cfa",
   "metadata": {},
   "outputs": [],
   "source": [
    "df = pd.read_csv(\"financial_data_kaggle.csv\",\n",
    "                 names=[\"sentiment\", \"text\"],\n",
    "                 encoding=\"utf-8\", encoding_errors=\"replace\")"
   ]
  },
  {
   "cell_type": "code",
   "execution_count": 8,
   "id": "50d3d888",
   "metadata": {},
   "outputs": [
    {
     "data": {
      "text/html": [
       "<div>\n",
       "<style scoped>\n",
       "    .dataframe tbody tr th:only-of-type {\n",
       "        vertical-align: middle;\n",
       "    }\n",
       "\n",
       "    .dataframe tbody tr th {\n",
       "        vertical-align: top;\n",
       "    }\n",
       "\n",
       "    .dataframe thead th {\n",
       "        text-align: right;\n",
       "    }\n",
       "</style>\n",
       "<table border=\"1\" class=\"dataframe\">\n",
       "  <thead>\n",
       "    <tr style=\"text-align: right;\">\n",
       "      <th></th>\n",
       "      <th>sentiment</th>\n",
       "      <th>text</th>\n",
       "    </tr>\n",
       "  </thead>\n",
       "  <tbody>\n",
       "    <tr>\n",
       "      <th>0</th>\n",
       "      <td>neutral</td>\n",
       "      <td>According to Gran , the company has no plans t...</td>\n",
       "    </tr>\n",
       "    <tr>\n",
       "      <th>1</th>\n",
       "      <td>neutral</td>\n",
       "      <td>Technopolis plans to develop in stages an area...</td>\n",
       "    </tr>\n",
       "    <tr>\n",
       "      <th>2</th>\n",
       "      <td>negative</td>\n",
       "      <td>The international electronic industry company ...</td>\n",
       "    </tr>\n",
       "    <tr>\n",
       "      <th>3</th>\n",
       "      <td>positive</td>\n",
       "      <td>With the new production plant the company woul...</td>\n",
       "    </tr>\n",
       "    <tr>\n",
       "      <th>4</th>\n",
       "      <td>positive</td>\n",
       "      <td>According to the company 's updated strategy f...</td>\n",
       "    </tr>\n",
       "  </tbody>\n",
       "</table>\n",
       "</div>"
      ],
      "text/plain": [
       "  sentiment                                               text\n",
       "0   neutral  According to Gran , the company has no plans t...\n",
       "1   neutral  Technopolis plans to develop in stages an area...\n",
       "2  negative  The international electronic industry company ...\n",
       "3  positive  With the new production plant the company woul...\n",
       "4  positive  According to the company 's updated strategy f..."
      ]
     },
     "execution_count": 8,
     "metadata": {},
     "output_type": "execute_result"
    }
   ],
   "source": [
    "df.head()"
   ]
  },
  {
   "cell_type": "code",
   "execution_count": 9,
   "id": "f7404f8d",
   "metadata": {},
   "outputs": [
    {
     "data": {
      "text/plain": [
       "neutral     2879\n",
       "positive    1363\n",
       "negative     604\n",
       "Name: sentiment, dtype: int64"
      ]
     },
     "execution_count": 9,
     "metadata": {},
     "output_type": "execute_result"
    }
   ],
   "source": [
    "df[\"sentiment\"].value_counts()"
   ]
  },
  {
   "cell_type": "code",
   "execution_count": 10,
   "id": "adf5c3ae",
   "metadata": {},
   "outputs": [],
   "source": [
    "filter_ = df[\"sentiment\"].map(lambda x: x in {\"positive\", \"negative\"})"
   ]
  },
  {
   "cell_type": "code",
   "execution_count": 11,
   "id": "5e9c461f",
   "metadata": {},
   "outputs": [],
   "source": [
    "# let's deal with neutrals later, probably can assign them to 0.5\n",
    "df = df[filter_].copy()"
   ]
  },
  {
   "cell_type": "code",
   "execution_count": 12,
   "id": "de887d2b",
   "metadata": {},
   "outputs": [
    {
     "data": {
      "text/plain": [
       "positive    1363\n",
       "negative     604\n",
       "Name: sentiment, dtype: int64"
      ]
     },
     "execution_count": 12,
     "metadata": {},
     "output_type": "execute_result"
    }
   ],
   "source": [
    "df[\"sentiment\"].value_counts()"
   ]
  },
  {
   "cell_type": "code",
   "execution_count": 13,
   "id": "f2ff3d32",
   "metadata": {},
   "outputs": [],
   "source": [
    "mapping_ = {\n",
    "    \"positive\": 1,\n",
    "    \"negative\": 0,\n",
    "}"
   ]
  },
  {
   "cell_type": "code",
   "execution_count": 14,
   "id": "a074ecb9",
   "metadata": {},
   "outputs": [],
   "source": [
    "df[\"sentiment\"] = df[\"sentiment\"].map(mapping_)"
   ]
  },
  {
   "cell_type": "code",
   "execution_count": 16,
   "id": "a06651de",
   "metadata": {},
   "outputs": [],
   "source": [
    "def preprocess_text(input_text: str) -> str:\n",
    "    s = input_text.lower()\n",
    "    s = (s\n",
    "         .replace('<br />', ' ')\n",
    "         .replace('`', \"'\")\n",
    "         .replace('´',\"'\")\n",
    "         .replace(\" '\", ' \"')\n",
    "         .replace(\"-\", \" - \")\n",
    "         .replace(\"/\", \" \")\n",
    "         .replace(\"_\", \" \")\n",
    "        )\n",
    "    return s"
   ]
  },
  {
   "cell_type": "code",
   "execution_count": 17,
   "id": "747faacd",
   "metadata": {},
   "outputs": [],
   "source": [
    "df[\"text\"] = df[\"text\"].map(preprocess_text)"
   ]
  },
  {
   "cell_type": "code",
   "execution_count": 18,
   "id": "e7530f3c",
   "metadata": {},
   "outputs": [],
   "source": [
    "tokenizer_func = nltk.word_tokenize"
   ]
  },
  {
   "cell_type": "code",
   "execution_count": 19,
   "id": "59a2cf24",
   "metadata": {},
   "outputs": [],
   "source": [
    "def texts_to_sequences(corpus, vocabulary_index, tok_func):\n",
    "    corpus_tokens = []\n",
    "    for text in corpus:\n",
    "        tokens = tok_func(text)\n",
    "        indicies = [vocabulary_index.get(x, 1) for x in tokens]\n",
    "        corpus_tokens.append(indicies)\n",
    "    return corpus_tokens"
   ]
  },
  {
   "cell_type": "code",
   "execution_count": 20,
   "id": "6814d2d3",
   "metadata": {},
   "outputs": [],
   "source": [
    "import json\n",
    "\n",
    "with open('vocab_index.json', 'r') as fp:\n",
    "    vocabulary_index = json.load(fp)"
   ]
  },
  {
   "cell_type": "code",
   "execution_count": 23,
   "id": "4facb47e",
   "metadata": {},
   "outputs": [],
   "source": [
    "model = tf.keras.models.load_model('glove_word_averaging_model.keras')"
   ]
  },
  {
   "cell_type": "code",
   "execution_count": 24,
   "id": "6163edf5",
   "metadata": {},
   "outputs": [],
   "source": [
    "X_eval = texts_to_sequences(df[\"text\"], vocabulary_index, tokenizer_func)"
   ]
  },
  {
   "cell_type": "code",
   "execution_count": 25,
   "id": "6f5182be",
   "metadata": {},
   "outputs": [],
   "source": [
    "X_eval = tf.keras.preprocessing.sequence.pad_sequences(X_eval, maxlen=512)"
   ]
  },
  {
   "cell_type": "code",
   "execution_count": 26,
   "id": "c1bc042e",
   "metadata": {},
   "outputs": [
    {
     "name": "stdout",
     "output_type": "stream",
     "text": [
      "62/62 [==============================] - 0s 2ms/step\n"
     ]
    }
   ],
   "source": [
    "predictions = model.predict(X_eval)"
   ]
  },
  {
   "cell_type": "code",
   "execution_count": 27,
   "id": "776e11af",
   "metadata": {},
   "outputs": [],
   "source": [
    "df[\"preds\"] = predictions"
   ]
  },
  {
   "cell_type": "code",
   "execution_count": 28,
   "id": "9a4040e4",
   "metadata": {},
   "outputs": [
    {
     "data": {
      "text/html": [
       "<div>\n",
       "<style scoped>\n",
       "    .dataframe tbody tr th:only-of-type {\n",
       "        vertical-align: middle;\n",
       "    }\n",
       "\n",
       "    .dataframe tbody tr th {\n",
       "        vertical-align: top;\n",
       "    }\n",
       "\n",
       "    .dataframe thead th {\n",
       "        text-align: right;\n",
       "    }\n",
       "</style>\n",
       "<table border=\"1\" class=\"dataframe\">\n",
       "  <thead>\n",
       "    <tr style=\"text-align: right;\">\n",
       "      <th></th>\n",
       "      <th>sentiment</th>\n",
       "      <th>text</th>\n",
       "      <th>preds</th>\n",
       "    </tr>\n",
       "  </thead>\n",
       "  <tbody>\n",
       "    <tr>\n",
       "      <th>2</th>\n",
       "      <td>0</td>\n",
       "      <td>the international electronic industry company ...</td>\n",
       "      <td>0.673213</td>\n",
       "    </tr>\n",
       "    <tr>\n",
       "      <th>3</th>\n",
       "      <td>1</td>\n",
       "      <td>with the new production plant the company woul...</td>\n",
       "      <td>0.715204</td>\n",
       "    </tr>\n",
       "    <tr>\n",
       "      <th>4</th>\n",
       "      <td>1</td>\n",
       "      <td>according to the company \"s updated strategy f...</td>\n",
       "      <td>0.194155</td>\n",
       "    </tr>\n",
       "    <tr>\n",
       "      <th>5</th>\n",
       "      <td>1</td>\n",
       "      <td>financing of aspocomp \"s growth aspocomp is ag...</td>\n",
       "      <td>0.487524</td>\n",
       "    </tr>\n",
       "    <tr>\n",
       "      <th>6</th>\n",
       "      <td>1</td>\n",
       "      <td>for the last quarter of 2010 , componenta \"s n...</td>\n",
       "      <td>0.817759</td>\n",
       "    </tr>\n",
       "  </tbody>\n",
       "</table>\n",
       "</div>"
      ],
      "text/plain": [
       "   sentiment                                               text     preds\n",
       "2          0  the international electronic industry company ...  0.673213\n",
       "3          1  with the new production plant the company woul...  0.715204\n",
       "4          1  according to the company \"s updated strategy f...  0.194155\n",
       "5          1  financing of aspocomp \"s growth aspocomp is ag...  0.487524\n",
       "6          1  for the last quarter of 2010 , componenta \"s n...  0.817759"
      ]
     },
     "execution_count": 28,
     "metadata": {},
     "output_type": "execute_result"
    }
   ],
   "source": [
    "df.head()"
   ]
  },
  {
   "cell_type": "code",
   "execution_count": 29,
   "id": "b65f8273",
   "metadata": {},
   "outputs": [],
   "source": [
    "df[\"pred_discrete\"] = (df[\"preds\"] > 0.5).map(int)"
   ]
  },
  {
   "cell_type": "code",
   "execution_count": 35,
   "id": "9ce0fe28",
   "metadata": {},
   "outputs": [
    {
     "name": "stdout",
     "output_type": "stream",
     "text": [
      "accuracy is 0.5892221657346213\n"
     ]
    }
   ],
   "source": [
    "print(\"accuracy is\", np.mean(df[\"pred_discrete\"] == df[\"sentiment\"]))"
   ]
  },
  {
   "cell_type": "code",
   "execution_count": null,
   "id": "8f2ea97d",
   "metadata": {},
   "outputs": [],
   "source": []
  }
 ],
 "metadata": {
  "kernelspec": {
   "display_name": "conda_tensorflow2_p310",
   "language": "python",
   "name": "conda_tensorflow2_p310"
  },
  "language_info": {
   "codemirror_mode": {
    "name": "ipython",
    "version": 3
   },
   "file_extension": ".py",
   "mimetype": "text/x-python",
   "name": "python",
   "nbconvert_exporter": "python",
   "pygments_lexer": "ipython3",
   "version": "3.10.13"
  }
 },
 "nbformat": 4,
 "nbformat_minor": 5
}
