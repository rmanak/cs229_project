{
 "cells": [
  {
   "cell_type": "code",
   "execution_count": 1,
   "id": "b46427bd",
   "metadata": {},
   "outputs": [],
   "source": [
    "import os\n",
    "\n",
    "from pathlib import Path\n",
    "\n",
    "import tensorflow as tf\n",
    "\n",
    "import pandas as pd \n",
    "import numpy as np\n",
    "\n",
    "from tensorflow.keras import layers\n",
    "from tensorflow.keras import losses"
   ]
  },
  {
   "cell_type": "code",
   "execution_count": 2,
   "id": "ad0f74a1",
   "metadata": {},
   "outputs": [
    {
     "name": "stdout",
     "output_type": "stream",
     "text": [
      "2.13.1\n"
     ]
    }
   ],
   "source": [
    "print(tf.__version__)"
   ]
  },
  {
   "cell_type": "code",
   "execution_count": 3,
   "id": "9fb3e707",
   "metadata": {},
   "outputs": [],
   "source": [
    "def _get_imdb_data_from_web(path=\"train\"):\n",
    "    _LOCAL_FNAME = f\"./imdb_full_dataset_{path}.csv\"\n",
    "    local_file = Path(_LOCAL_FNAME)\n",
    "    \n",
    "    if local_file.is_file():\n",
    "        return pd.read_csv(_LOCAL_FNAME)\n",
    "    \n",
    "    url = \"https://ai.stanford.edu/~amaas/data/sentiment/aclImdb_v1.tar.gz\"\n",
    "\n",
    "    dataset = tf.keras.utils.get_file(\"aclImdb_v1\", url,\n",
    "                                        untar=True, cache_dir='.',\n",
    "                                        cache_subdir='')\n",
    "\n",
    "    dataset_dir = os.path.join(os.path.dirname(dataset), 'aclImdb')\n",
    "    \n",
    "    _, _, pos_files = next(os.walk(f\"./aclImdb/{path}/pos/\"))\n",
    "    _, _, neg_files = next(os.walk(f\"./aclImdb/{path}/neg/\"))\n",
    "    \n",
    "    pos_corpus = []\n",
    "    for fname in pos_files:\n",
    "        with open(f\"./aclImdb/{path}/pos/\" + fname) as f:\n",
    "            text = f.read()\n",
    "            pos_corpus.append(text)\n",
    "\n",
    "    pos_labels = [1] * len(pos_corpus)\n",
    "    \n",
    "    neg_corpus = []\n",
    "    for fname in neg_files:\n",
    "        with open(f\"./aclImdb/{path}/neg/\" + fname) as f:\n",
    "            text = f.read()\n",
    "            neg_corpus.append(text)\n",
    "\n",
    "    neg_labels = [0] * len(neg_corpus)\n",
    "    \n",
    "    df = pd.DataFrame({\"text\": pos_corpus + neg_corpus, \"label\": pos_labels + neg_labels})\n",
    "    \n",
    "    df = df.sample(frac=1.0, random_state=0)\n",
    "    \n",
    "    df.to_csv(_LOCAL_FNAME)\n",
    "    \n",
    "    return df "
   ]
  },
  {
   "cell_type": "code",
   "execution_count": 4,
   "id": "dc32d6e6",
   "metadata": {},
   "outputs": [],
   "source": [
    "df = _get_imdb_data_from_web()"
   ]
  },
  {
   "cell_type": "code",
   "execution_count": 5,
   "id": "773c56bc",
   "metadata": {},
   "outputs": [
    {
     "data": {
      "text/html": [
       "<div>\n",
       "<style scoped>\n",
       "    .dataframe tbody tr th:only-of-type {\n",
       "        vertical-align: middle;\n",
       "    }\n",
       "\n",
       "    .dataframe tbody tr th {\n",
       "        vertical-align: top;\n",
       "    }\n",
       "\n",
       "    .dataframe thead th {\n",
       "        text-align: right;\n",
       "    }\n",
       "</style>\n",
       "<table border=\"1\" class=\"dataframe\">\n",
       "  <thead>\n",
       "    <tr style=\"text-align: right;\">\n",
       "      <th></th>\n",
       "      <th>text</th>\n",
       "      <th>label</th>\n",
       "    </tr>\n",
       "  </thead>\n",
       "  <tbody>\n",
       "    <tr>\n",
       "      <th>14149</th>\n",
       "      <td>I had two reasons for watching this swashbuckl...</td>\n",
       "      <td>0</td>\n",
       "    </tr>\n",
       "    <tr>\n",
       "      <th>8946</th>\n",
       "      <td>This is, in my opinion, a very good film, espe...</td>\n",
       "      <td>1</td>\n",
       "    </tr>\n",
       "    <tr>\n",
       "      <th>22378</th>\n",
       "      <td>I knew this film was supposed to be so bad it ...</td>\n",
       "      <td>0</td>\n",
       "    </tr>\n",
       "    <tr>\n",
       "      <th>12162</th>\n",
       "      <td>When the US entered World War I, the governmen...</td>\n",
       "      <td>1</td>\n",
       "    </tr>\n",
       "    <tr>\n",
       "      <th>4879</th>\n",
       "      <td>Few movies can be viewed almost 60 years later...</td>\n",
       "      <td>1</td>\n",
       "    </tr>\n",
       "  </tbody>\n",
       "</table>\n",
       "</div>"
      ],
      "text/plain": [
       "                                                    text  label\n",
       "14149  I had two reasons for watching this swashbuckl...      0\n",
       "8946   This is, in my opinion, a very good film, espe...      1\n",
       "22378  I knew this film was supposed to be so bad it ...      0\n",
       "12162  When the US entered World War I, the governmen...      1\n",
       "4879   Few movies can be viewed almost 60 years later...      1"
      ]
     },
     "execution_count": 5,
     "metadata": {},
     "output_type": "execute_result"
    }
   ],
   "source": [
    "df.head()"
   ]
  },
  {
   "cell_type": "code",
   "execution_count": 6,
   "id": "c7487e36",
   "metadata": {},
   "outputs": [
    {
     "name": "stdout",
     "output_type": "stream",
     "text": [
      "class one average 0.5\n"
     ]
    }
   ],
   "source": [
    "print(\"class one average\", np.mean(df[\"label\"]))"
   ]
  },
  {
   "cell_type": "code",
   "execution_count": 7,
   "id": "de9716e2",
   "metadata": {},
   "outputs": [
    {
     "data": {
      "text/plain": [
       "25000"
      ]
     },
     "execution_count": 7,
     "metadata": {},
     "output_type": "execute_result"
    }
   ],
   "source": [
    "len(df)"
   ]
  },
  {
   "cell_type": "code",
   "execution_count": 8,
   "id": "4def55fe",
   "metadata": {},
   "outputs": [],
   "source": [
    "def preprocess_text(input_text: str) -> str:\n",
    "    s = input_text.lower()\n",
    "    s = s.replace('<br />', ' ')\n",
    "    return s\n",
    "    # return token_pattern.findall(s)"
   ]
  },
  {
   "cell_type": "code",
   "execution_count": 9,
   "id": "4c93ea37",
   "metadata": {},
   "outputs": [],
   "source": [
    "df[\"text\"] = df[\"text\"].map(preprocess_text)"
   ]
  },
  {
   "cell_type": "code",
   "execution_count": 10,
   "id": "b526740f",
   "metadata": {},
   "outputs": [],
   "source": [
    "tok = tf.keras.preprocessing.text.Tokenizer()"
   ]
  },
  {
   "cell_type": "code",
   "execution_count": 11,
   "id": "88efa349",
   "metadata": {},
   "outputs": [],
   "source": [
    "from sklearn.model_selection import train_test_split\n"
   ]
  },
  {
   "cell_type": "code",
   "execution_count": 12,
   "id": "89f653a2",
   "metadata": {},
   "outputs": [],
   "source": [
    "text_train, text_test, y_train, y_test = train_test_split(\n",
    "    df[\"text\"], \n",
    "    df[\"label\"], \n",
    "    test_size=0.2,\n",
    "    random_state=1,\n",
    ")"
   ]
  },
  {
   "cell_type": "code",
   "execution_count": 13,
   "id": "705d211e",
   "metadata": {},
   "outputs": [],
   "source": [
    "tok.fit_on_texts(text_train)"
   ]
  },
  {
   "cell_type": "code",
   "execution_count": 14,
   "id": "9aa283a2",
   "metadata": {},
   "outputs": [
    {
     "data": {
      "text/plain": [
       "80476"
      ]
     },
     "execution_count": 14,
     "metadata": {},
     "output_type": "execute_result"
    }
   ],
   "source": [
    "len(tok.word_index)\n"
   ]
  },
  {
   "cell_type": "code",
   "execution_count": 15,
   "id": "f31d43e7",
   "metadata": {},
   "outputs": [],
   "source": [
    "X_train = tok.texts_to_sequences(text_train)\n",
    "X_test = tok.texts_to_sequences(text_test)\n",
    "\n",
    "X_train = tf.keras.preprocessing.sequence.pad_sequences(X_train, maxlen=512, padding=\"post\")\n",
    "X_test = tf.keras.preprocessing.sequence.pad_sequences(X_test, maxlen=512, padding=\"post\")"
   ]
  },
  {
   "cell_type": "code",
   "execution_count": 21,
   "id": "af185e67",
   "metadata": {},
   "outputs": [
    {
     "name": "stdout",
     "output_type": "stream",
     "text": [
      "Model: \"sequential_1\"\n",
      "_________________________________________________________________\n",
      " Layer (type)                Output Shape              Param #   \n",
      "=================================================================\n",
      " embedding_1 (Embedding)     (None, 512, 16)           1287632   \n",
      "                                                                 \n",
      " dropout_2 (Dropout)         (None, 512, 16)           0         \n",
      "                                                                 \n",
      " global_average_pooling1d_1  (None, 16)                0         \n",
      "  (GlobalAveragePooling1D)                                       \n",
      "                                                                 \n",
      " dropout_3 (Dropout)         (None, 16)                0         \n",
      "                                                                 \n",
      " dense_1 (Dense)             (None, 1)                 17        \n",
      "                                                                 \n",
      "=================================================================\n",
      "Total params: 1287649 (4.91 MB)\n",
      "Trainable params: 1287649 (4.91 MB)\n",
      "Non-trainable params: 0 (0.00 Byte)\n",
      "_________________________________________________________________\n"
     ]
    }
   ],
   "source": [
    "model = tf.keras.Sequential([\n",
    "    layers.Embedding(input_dim=len(tok.index_word) + 1, output_dim=16, input_length=512),\n",
    "    layers.Dropout(0.2),\n",
    "    layers.GlobalAveragePooling1D(),\n",
    "    layers.Dropout(0.2),\n",
    "    layers.Dense(1, activation=\"sigmoid\")]\n",
    ")\n",
    "\n",
    "model.summary()"
   ]
  },
  {
   "cell_type": "code",
   "execution_count": 24,
   "id": "3fc1beed",
   "metadata": {},
   "outputs": [],
   "source": [
    "callback = tf.keras.callbacks.EarlyStopping(\n",
    "    monitor=\"val_binary_accuracy\",\n",
    "    patience=3,\n",
    "    verbose=0,\n",
    "    restore_best_weights=True,\n",
    ")"
   ]
  },
  {
   "cell_type": "code",
   "execution_count": 25,
   "id": "a407d2cd",
   "metadata": {},
   "outputs": [],
   "source": [
    "model.compile(loss=losses.BinaryCrossentropy(),\n",
    "              optimizer='adam',\n",
    "              metrics=tf.metrics.BinaryAccuracy(threshold=0.5))\n"
   ]
  },
  {
   "cell_type": "code",
   "execution_count": 26,
   "id": "b5e9520e",
   "metadata": {},
   "outputs": [
    {
     "name": "stdout",
     "output_type": "stream",
     "text": [
      "Epoch 1/20\n",
      "625/625 [==============================] - 68s 107ms/step - loss: 0.6775 - binary_accuracy: 0.6539 - val_loss: 0.6476 - val_binary_accuracy: 0.7772\n",
      "Epoch 2/20\n",
      "625/625 [==============================] - 35s 56ms/step - loss: 0.5942 - binary_accuracy: 0.7886 - val_loss: 0.5521 - val_binary_accuracy: 0.8090\n",
      "Epoch 3/20\n",
      "625/625 [==============================] - 18s 30ms/step - loss: 0.4953 - binary_accuracy: 0.8396 - val_loss: 0.4744 - val_binary_accuracy: 0.8296\n",
      "Epoch 4/20\n",
      "625/625 [==============================] - 12s 19ms/step - loss: 0.4197 - binary_accuracy: 0.8668 - val_loss: 0.4196 - val_binary_accuracy: 0.8492\n",
      "Epoch 5/20\n",
      "625/625 [==============================] - 11s 18ms/step - loss: 0.3634 - binary_accuracy: 0.8885 - val_loss: 0.3849 - val_binary_accuracy: 0.8560\n",
      "Epoch 6/20\n",
      "625/625 [==============================] - 8s 13ms/step - loss: 0.3223 - binary_accuracy: 0.8988 - val_loss: 0.3543 - val_binary_accuracy: 0.8668\n",
      "Epoch 7/20\n",
      "625/625 [==============================] - 8s 13ms/step - loss: 0.2893 - binary_accuracy: 0.9104 - val_loss: 0.3341 - val_binary_accuracy: 0.8722\n",
      "Epoch 8/20\n",
      "625/625 [==============================] - 5s 8ms/step - loss: 0.2634 - binary_accuracy: 0.9170 - val_loss: 0.3200 - val_binary_accuracy: 0.8740\n",
      "Epoch 9/20\n",
      "625/625 [==============================] - 6s 10ms/step - loss: 0.2402 - binary_accuracy: 0.9238 - val_loss: 0.3084 - val_binary_accuracy: 0.8756\n",
      "Epoch 10/20\n",
      "625/625 [==============================] - 4s 7ms/step - loss: 0.2214 - binary_accuracy: 0.9311 - val_loss: 0.2988 - val_binary_accuracy: 0.8794\n",
      "Epoch 11/20\n",
      "625/625 [==============================] - 5s 8ms/step - loss: 0.2040 - binary_accuracy: 0.9373 - val_loss: 0.2923 - val_binary_accuracy: 0.8832\n",
      "Epoch 12/20\n",
      "625/625 [==============================] - 3s 5ms/step - loss: 0.1889 - binary_accuracy: 0.9412 - val_loss: 0.2865 - val_binary_accuracy: 0.8856\n",
      "Epoch 13/20\n",
      "625/625 [==============================] - 4s 7ms/step - loss: 0.1749 - binary_accuracy: 0.9454 - val_loss: 0.2834 - val_binary_accuracy: 0.8850\n",
      "Epoch 14/20\n",
      "625/625 [==============================] - 3s 5ms/step - loss: 0.1628 - binary_accuracy: 0.9496 - val_loss: 0.2796 - val_binary_accuracy: 0.8878\n",
      "Epoch 15/20\n",
      "625/625 [==============================] - 3s 5ms/step - loss: 0.1506 - binary_accuracy: 0.9542 - val_loss: 0.2779 - val_binary_accuracy: 0.8876\n",
      "Epoch 16/20\n",
      "625/625 [==============================] - 3s 5ms/step - loss: 0.1405 - binary_accuracy: 0.9578 - val_loss: 0.2771 - val_binary_accuracy: 0.8896\n",
      "Epoch 17/20\n",
      "625/625 [==============================] - 4s 6ms/step - loss: 0.1312 - binary_accuracy: 0.9615 - val_loss: 0.2783 - val_binary_accuracy: 0.8886\n",
      "Epoch 18/20\n",
      "625/625 [==============================] - 4s 6ms/step - loss: 0.1219 - binary_accuracy: 0.9650 - val_loss: 0.2769 - val_binary_accuracy: 0.8924\n",
      "Epoch 19/20\n",
      "625/625 [==============================] - 5s 7ms/step - loss: 0.1137 - binary_accuracy: 0.9679 - val_loss: 0.2769 - val_binary_accuracy: 0.8926\n",
      "Epoch 20/20\n",
      "625/625 [==============================] - 3s 5ms/step - loss: 0.1051 - binary_accuracy: 0.9710 - val_loss: 0.2823 - val_binary_accuracy: 0.8918\n"
     ]
    }
   ],
   "source": [
    "epochs = 20\n",
    "history = model.fit(\n",
    "    X_train, y_train,\n",
    "    validation_data=(X_test, y_test),\n",
    "    epochs=epochs,\n",
    "    callbacks=[callback],\n",
    ")"
   ]
  },
  {
   "cell_type": "code",
   "execution_count": 27,
   "id": "7859e385",
   "metadata": {},
   "outputs": [],
   "source": [
    "df_test = _get_imdb_data_from_web(path=\"test\")"
   ]
  },
  {
   "cell_type": "code",
   "execution_count": 28,
   "id": "561f435b",
   "metadata": {},
   "outputs": [],
   "source": [
    "df_test[\"text\"] = df_test[\"text\"].map(preprocess_text)\n",
    "X = tok.texts_to_sequences(df_test[\"text\"])\n",
    "X = tf.keras.preprocessing.sequence.pad_sequences(X, maxlen=512, padding=\"post\")"
   ]
  },
  {
   "cell_type": "code",
   "execution_count": 29,
   "id": "e727a9a6",
   "metadata": {},
   "outputs": [
    {
     "name": "stdout",
     "output_type": "stream",
     "text": [
      "782/782 [==============================] - 1s 1ms/step\n"
     ]
    }
   ],
   "source": [
    "preds = model.predict(X)"
   ]
  },
  {
   "cell_type": "code",
   "execution_count": 32,
   "id": "5447af29",
   "metadata": {},
   "outputs": [],
   "source": [
    "df_test[\"preds\"] = preds.ravel()"
   ]
  },
  {
   "cell_type": "code",
   "execution_count": 33,
   "id": "f24aee15",
   "metadata": {},
   "outputs": [],
   "source": [
    "df_test[\"pred_discrete\"] = (df_test[\"preds\"] > 0.5).map(int)"
   ]
  },
  {
   "cell_type": "code",
   "execution_count": 35,
   "id": "ecbf0cce",
   "metadata": {},
   "outputs": [
    {
     "name": "stdout",
     "output_type": "stream",
     "text": [
      "accuracy on test data is 0.88856\n"
     ]
    }
   ],
   "source": [
    "print(\"accuracy on test data is\", np.mean(df_test[\"pred_discrete\"] == df_test[\"label\"]))"
   ]
  },
  {
   "cell_type": "code",
   "execution_count": 36,
   "id": "cca57296",
   "metadata": {},
   "outputs": [],
   "source": [
    "model.save('random_word_averaging_model.keras')"
   ]
  },
  {
   "cell_type": "code",
   "execution_count": 44,
   "id": "d770edaf",
   "metadata": {},
   "outputs": [],
   "source": [
    "df_finance = pd.read_csv(\"financial_data_kaggle.csv\",\n",
    "                 names=[\"sentiment\", \"text\"],\n",
    "                 encoding=\"utf-8\", encoding_errors=\"replace\")\n",
    "\n",
    "filter_ = df_finance[\"sentiment\"].map(lambda x: x in {\"positive\", \"negative\"})\n",
    "\n",
    "df_finance = df_finance[filter_].copy()\n",
    "\n",
    "mapping_ = {\n",
    "    \"positive\": 1,\n",
    "    \"negative\": 0,\n",
    "}\n",
    "\n",
    "df_finance[\"sentiment\"] = df_finance[\"sentiment\"].map(mapping_)\n",
    "\n",
    "df_finance[\"text\"] = df_finance[\"text\"].map(preprocess_text)"
   ]
  },
  {
   "cell_type": "code",
   "execution_count": 45,
   "id": "fa3aab98",
   "metadata": {},
   "outputs": [],
   "source": [
    "X = tok.texts_to_sequences(df_finance[\"text\"])\n",
    "X = tf.keras.preprocessing.sequence.pad_sequences(X, maxlen=512, padding=\"post\")"
   ]
  },
  {
   "cell_type": "code",
   "execution_count": 46,
   "id": "de92b077",
   "metadata": {},
   "outputs": [
    {
     "name": "stdout",
     "output_type": "stream",
     "text": [
      "62/62 [==============================] - 0s 1ms/step\n"
     ]
    }
   ],
   "source": [
    "df_finance[\"preds\"] = model.predict(X).ravel()"
   ]
  },
  {
   "cell_type": "code",
   "execution_count": 47,
   "id": "9b6d9ffe",
   "metadata": {},
   "outputs": [
    {
     "name": "stdout",
     "output_type": "stream",
     "text": [
      "accuracy on test data is 0.614133197763091\n"
     ]
    }
   ],
   "source": [
    "df_finance[\"pred_discrete\"] = (df_finance[\"preds\"] > 0.5).map(int)\n",
    "print(\"accuracy on test data is\", np.mean(df_finance[\"pred_discrete\"] == df_finance[\"sentiment\"]))"
   ]
  },
  {
   "cell_type": "markdown",
   "id": "d2ce7b5b",
   "metadata": {},
   "source": [
    "# LSTM Model"
   ]
  },
  {
   "cell_type": "code",
   "execution_count": 48,
   "id": "4cd93ed2",
   "metadata": {},
   "outputs": [],
   "source": [
    "X_train = tok.texts_to_sequences(text_train)\n",
    "X_test = tok.texts_to_sequences(text_test)\n",
    "\n",
    "X_train = tf.keras.preprocessing.sequence.pad_sequences(X_train, maxlen=128, padding=\"post\")\n",
    "X_test = tf.keras.preprocessing.sequence.pad_sequences(X_test, maxlen=128, padding=\"post\")"
   ]
  },
  {
   "cell_type": "code",
   "execution_count": 49,
   "id": "e85f7dfa",
   "metadata": {},
   "outputs": [
    {
     "name": "stdout",
     "output_type": "stream",
     "text": [
      "Model: \"sequential_2\"\n",
      "_________________________________________________________________\n",
      " Layer (type)                Output Shape              Param #   \n",
      "=================================================================\n",
      " embedding_2 (Embedding)     (None, 128, 64)           5150528   \n",
      "                                                                 \n",
      " dropout_4 (Dropout)         (None, 128, 64)           0         \n",
      "                                                                 \n",
      " lstm (LSTM)                 (None, 64)                33024     \n",
      "                                                                 \n",
      " dropout_5 (Dropout)         (None, 64)                0         \n",
      "                                                                 \n",
      " dense_2 (Dense)             (None, 1)                 65        \n",
      "                                                                 \n",
      "=================================================================\n",
      "Total params: 5183617 (19.77 MB)\n",
      "Trainable params: 5183617 (19.77 MB)\n",
      "Non-trainable params: 0 (0.00 Byte)\n",
      "_________________________________________________________________\n"
     ]
    }
   ],
   "source": [
    "model = tf.keras.Sequential([\n",
    "    layers.Embedding(input_dim=len(tok.index_word) + 1, output_dim=64, input_length=128),\n",
    "    layers.Dropout(0.2),\n",
    "    layers.LSTM(64, return_sequences=False),\n",
    "    layers.Dropout(0.2),\n",
    "    layers.Dense(1, activation=\"sigmoid\")]\n",
    ")\n",
    "\n",
    "model.summary()"
   ]
  },
  {
   "cell_type": "code",
   "execution_count": 50,
   "id": "c605c71c",
   "metadata": {},
   "outputs": [],
   "source": [
    "model.compile(loss=losses.BinaryCrossentropy(),\n",
    "              optimizer='adam',\n",
    "              metrics=tf.metrics.BinaryAccuracy(threshold=0.5))\n"
   ]
  },
  {
   "cell_type": "code",
   "execution_count": 52,
   "id": "ce090f88",
   "metadata": {},
   "outputs": [],
   "source": [
    "callback = tf.keras.callbacks.EarlyStopping(\n",
    "    monitor=\"val_binary_accuracy\",\n",
    "    patience=3,\n",
    "    verbose=0,\n",
    "    restore_best_weights=True,\n",
    ")"
   ]
  },
  {
   "cell_type": "code",
   "execution_count": 53,
   "id": "08d2c39b",
   "metadata": {},
   "outputs": [
    {
     "name": "stdout",
     "output_type": "stream",
     "text": [
      "Epoch 1/20\n",
      "625/625 [==============================] - 50s 80ms/step - loss: 0.4466 - binary_accuracy: 0.7880 - val_loss: 0.3501 - val_binary_accuracy: 0.8512\n",
      "Epoch 2/20\n",
      "625/625 [==============================] - 12s 19ms/step - loss: 0.2280 - binary_accuracy: 0.9172 - val_loss: 0.3773 - val_binary_accuracy: 0.8564\n",
      "Epoch 3/20\n",
      "625/625 [==============================] - 12s 20ms/step - loss: 0.1243 - binary_accuracy: 0.9605 - val_loss: 0.4468 - val_binary_accuracy: 0.8510\n",
      "Epoch 4/20\n",
      "625/625 [==============================] - 6s 10ms/step - loss: 0.0789 - binary_accuracy: 0.9759 - val_loss: 0.5534 - val_binary_accuracy: 0.8538\n",
      "Epoch 5/20\n",
      "625/625 [==============================] - 7s 11ms/step - loss: 0.1182 - binary_accuracy: 0.9658 - val_loss: 0.5428 - val_binary_accuracy: 0.8218\n"
     ]
    }
   ],
   "source": [
    "epochs = 20\n",
    "history = model.fit(\n",
    "    X_train, y_train,\n",
    "    validation_data=(X_test, y_test),\n",
    "    epochs=epochs,\n",
    "    callbacks=[callback]\n",
    ")"
   ]
  },
  {
   "cell_type": "code",
   "execution_count": 54,
   "id": "727cdc74",
   "metadata": {},
   "outputs": [
    {
     "name": "stdout",
     "output_type": "stream",
     "text": [
      "782/782 [==============================] - 3s 3ms/step\n",
      "accuracy on test data is 0.85316\n"
     ]
    }
   ],
   "source": [
    "df_test = _get_imdb_data_from_web(path=\"test\")\n",
    "\n",
    "df_test[\"text\"] = df_test[\"text\"].map(preprocess_text)\n",
    "X = tok.texts_to_sequences(df_test[\"text\"])\n",
    "X = tf.keras.preprocessing.sequence.pad_sequences(X, maxlen=128, padding=\"post\")\n",
    "\n",
    "preds = model.predict(X)\n",
    "\n",
    "df_test[\"preds\"] = preds.ravel()\n",
    "\n",
    "df_test[\"pred_discrete\"] = (df_test[\"preds\"] > 0.5).map(int)\n",
    "\n",
    "print(\"accuracy on test data is\", np.mean(df_test[\"pred_discrete\"] == df_test[\"label\"]))"
   ]
  },
  {
   "cell_type": "code",
   "execution_count": 55,
   "id": "795574cd",
   "metadata": {},
   "outputs": [
    {
     "name": "stdout",
     "output_type": "stream",
     "text": [
      "62/62 [==============================] - 1s 6ms/step\n",
      "accuracy on test data is 0.594306049822064\n"
     ]
    }
   ],
   "source": [
    "df_finance = pd.read_csv(\"financial_data_kaggle.csv\",\n",
    "                 names=[\"sentiment\", \"text\"],\n",
    "                 encoding=\"utf-8\", encoding_errors=\"replace\")\n",
    "\n",
    "filter_ = df_finance[\"sentiment\"].map(lambda x: x in {\"positive\", \"negative\"})\n",
    "\n",
    "df_finance = df_finance[filter_].copy()\n",
    "\n",
    "mapping_ = {\n",
    "    \"positive\": 1,\n",
    "    \"negative\": 0,\n",
    "}\n",
    "\n",
    "df_finance[\"sentiment\"] = df_finance[\"sentiment\"].map(mapping_)\n",
    "\n",
    "df_finance[\"text\"] = df_finance[\"text\"].map(preprocess_text)\n",
    "\n",
    "X = tok.texts_to_sequences(df_finance[\"text\"])\n",
    "X = tf.keras.preprocessing.sequence.pad_sequences(X, maxlen=512, padding=\"post\")\n",
    "\n",
    "df_finance[\"preds\"] = model.predict(X).ravel()\n",
    "\n",
    "df_finance[\"pred_discrete\"] = (df_finance[\"preds\"] > 0.5).map(int)\n",
    "print(\"accuracy on test data is\", np.mean(df_finance[\"pred_discrete\"] == df_finance[\"sentiment\"]))"
   ]
  },
  {
   "cell_type": "code",
   "execution_count": 56,
   "id": "41be506a",
   "metadata": {},
   "outputs": [],
   "source": [
    "model.save('random_word_lstm_model.keras')"
   ]
  },
  {
   "cell_type": "code",
   "execution_count": null,
   "id": "ec0c4a86",
   "metadata": {},
   "outputs": [],
   "source": []
  }
 ],
 "metadata": {
  "kernelspec": {
   "display_name": "conda_tensorflow2_p310",
   "language": "python",
   "name": "conda_tensorflow2_p310"
  },
  "language_info": {
   "codemirror_mode": {
    "name": "ipython",
    "version": 3
   },
   "file_extension": ".py",
   "mimetype": "text/x-python",
   "name": "python",
   "nbconvert_exporter": "python",
   "pygments_lexer": "ipython3",
   "version": "3.10.13"
  }
 },
 "nbformat": 4,
 "nbformat_minor": 5
}
