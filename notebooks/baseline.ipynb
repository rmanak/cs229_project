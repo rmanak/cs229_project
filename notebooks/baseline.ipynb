{
 "cells": [
  {
   "cell_type": "code",
   "execution_count": 1,
   "id": "b46427bd",
   "metadata": {},
   "outputs": [],
   "source": [
    "import os\n",
    "\n",
    "from pathlib import Path\n",
    "\n",
    "import tensorflow as tf\n",
    "\n",
    "import pandas as pd \n",
    "import numpy as np\n",
    "\n",
    "from tensorflow.keras import layers\n",
    "from tensorflow.keras import losses"
   ]
  },
  {
   "cell_type": "code",
   "execution_count": 2,
   "id": "ad0f74a1",
   "metadata": {},
   "outputs": [
    {
     "name": "stdout",
     "output_type": "stream",
     "text": [
      "2.13.1\n"
     ]
    }
   ],
   "source": [
    "print(tf.__version__)"
   ]
  },
  {
   "cell_type": "code",
   "execution_count": 3,
   "id": "9fb3e707",
   "metadata": {},
   "outputs": [],
   "source": [
    "def _get_imdb_data_from_web():\n",
    "    _LOCAL_FNAME = \"./imdb_full_dataset.csv\"\n",
    "    local_file = Path(_LOCAL_FNAME)\n",
    "    \n",
    "    if local_file.is_file():\n",
    "        return pd.read_csv(_LOCAL_FNAME)\n",
    "    \n",
    "    url = \"https://ai.stanford.edu/~amaas/data/sentiment/aclImdb_v1.tar.gz\"\n",
    "\n",
    "    dataset = tf.keras.utils.get_file(\"aclImdb_v1\", url,\n",
    "                                        untar=True, cache_dir='.',\n",
    "                                        cache_subdir='')\n",
    "\n",
    "    dataset_dir = os.path.join(os.path.dirname(dataset), 'aclImdb')\n",
    "    \n",
    "    _, _, pos_files = next(os.walk(\"./aclImdb/train/pos/\"))\n",
    "    _, _, neg_files = next(os.walk(\"./aclImdb/train/neg/\"))\n",
    "    \n",
    "    pos_corpus = []\n",
    "    for fname in pos_files:\n",
    "        with open(\"./aclImdb/train/pos/\" + fname) as f:\n",
    "            text = f.read()\n",
    "            pos_corpus.append(text)\n",
    "\n",
    "    pos_labels = [1] * len(pos_corpus)\n",
    "    \n",
    "    neg_corpus = []\n",
    "    for fname in neg_files:\n",
    "        with open(\"./aclImdb/train/neg/\" + fname) as f:\n",
    "            text = f.read()\n",
    "            neg_corpus.append(text)\n",
    "\n",
    "    neg_labels = [0] * len(neg_corpus)\n",
    "    \n",
    "    df = pd.DataFrame({\"text\": pos_corpus + neg_corpus, \"label\": pos_labels + neg_labels})\n",
    "    \n",
    "    df = df.sample(frac=1.0, random_state=0)\n",
    "    \n",
    "    df.to_csv(_LOCAL_FNAME)\n",
    "    \n",
    "    return df "
   ]
  },
  {
   "cell_type": "code",
   "execution_count": 4,
   "id": "dc32d6e6",
   "metadata": {},
   "outputs": [],
   "source": [
    "df = _get_imdb_data_from_web()"
   ]
  },
  {
   "cell_type": "code",
   "execution_count": 5,
   "id": "773c56bc",
   "metadata": {},
   "outputs": [
    {
     "data": {
      "text/html": [
       "<div>\n",
       "<style scoped>\n",
       "    .dataframe tbody tr th:only-of-type {\n",
       "        vertical-align: middle;\n",
       "    }\n",
       "\n",
       "    .dataframe tbody tr th {\n",
       "        vertical-align: top;\n",
       "    }\n",
       "\n",
       "    .dataframe thead th {\n",
       "        text-align: right;\n",
       "    }\n",
       "</style>\n",
       "<table border=\"1\" class=\"dataframe\">\n",
       "  <thead>\n",
       "    <tr style=\"text-align: right;\">\n",
       "      <th></th>\n",
       "      <th>Unnamed: 0</th>\n",
       "      <th>text</th>\n",
       "      <th>label</th>\n",
       "    </tr>\n",
       "  </thead>\n",
       "  <tbody>\n",
       "    <tr>\n",
       "      <th>0</th>\n",
       "      <td>14149</td>\n",
       "      <td>I had two reasons for watching this swashbuckl...</td>\n",
       "      <td>0</td>\n",
       "    </tr>\n",
       "    <tr>\n",
       "      <th>1</th>\n",
       "      <td>8946</td>\n",
       "      <td>This is, in my opinion, a very good film, espe...</td>\n",
       "      <td>1</td>\n",
       "    </tr>\n",
       "    <tr>\n",
       "      <th>2</th>\n",
       "      <td>22378</td>\n",
       "      <td>I knew this film was supposed to be so bad it ...</td>\n",
       "      <td>0</td>\n",
       "    </tr>\n",
       "    <tr>\n",
       "      <th>3</th>\n",
       "      <td>12162</td>\n",
       "      <td>When the US entered World War I, the governmen...</td>\n",
       "      <td>1</td>\n",
       "    </tr>\n",
       "    <tr>\n",
       "      <th>4</th>\n",
       "      <td>4879</td>\n",
       "      <td>Few movies can be viewed almost 60 years later...</td>\n",
       "      <td>1</td>\n",
       "    </tr>\n",
       "  </tbody>\n",
       "</table>\n",
       "</div>"
      ],
      "text/plain": [
       "   Unnamed: 0                                               text  label\n",
       "0       14149  I had two reasons for watching this swashbuckl...      0\n",
       "1        8946  This is, in my opinion, a very good film, espe...      1\n",
       "2       22378  I knew this film was supposed to be so bad it ...      0\n",
       "3       12162  When the US entered World War I, the governmen...      1\n",
       "4        4879  Few movies can be viewed almost 60 years later...      1"
      ]
     },
     "execution_count": 5,
     "metadata": {},
     "output_type": "execute_result"
    }
   ],
   "source": [
    "df.head()"
   ]
  },
  {
   "cell_type": "code",
   "execution_count": 6,
   "id": "c7487e36",
   "metadata": {},
   "outputs": [
    {
     "name": "stdout",
     "output_type": "stream",
     "text": [
      "class one average 0.5\n"
     ]
    }
   ],
   "source": [
    "print(\"class one average\", np.mean(df[\"label\"]))"
   ]
  },
  {
   "cell_type": "code",
   "execution_count": 7,
   "id": "4def55fe",
   "metadata": {},
   "outputs": [],
   "source": [
    "def preprocess_text(input_text: str) -> str:\n",
    "    s = input_text.lower()\n",
    "    s = s.replace('<br />', ' ')\n",
    "    return s\n",
    "    # return token_pattern.findall(s)"
   ]
  },
  {
   "cell_type": "code",
   "execution_count": 8,
   "id": "4c93ea37",
   "metadata": {},
   "outputs": [],
   "source": [
    "df[\"text\"] = df[\"text\"].map(preprocess_text)"
   ]
  },
  {
   "cell_type": "code",
   "execution_count": 9,
   "id": "b526740f",
   "metadata": {},
   "outputs": [],
   "source": [
    "tok = tf.keras.preprocessing.text.Tokenizer()"
   ]
  },
  {
   "cell_type": "code",
   "execution_count": 10,
   "id": "88efa349",
   "metadata": {},
   "outputs": [],
   "source": [
    "from sklearn.model_selection import train_test_split\n"
   ]
  },
  {
   "cell_type": "code",
   "execution_count": 11,
   "id": "89f653a2",
   "metadata": {},
   "outputs": [],
   "source": [
    "text_train, text_test, y_train, y_test = train_test_split(\n",
    "    df[\"text\"], \n",
    "    df[\"label\"], \n",
    "    test_size=0.2,\n",
    "    random_state=1,\n",
    ")"
   ]
  },
  {
   "cell_type": "code",
   "execution_count": 12,
   "id": "705d211e",
   "metadata": {},
   "outputs": [],
   "source": [
    "tok.fit_on_texts(text_train)"
   ]
  },
  {
   "cell_type": "code",
   "execution_count": 13,
   "id": "9aa283a2",
   "metadata": {},
   "outputs": [
    {
     "data": {
      "text/plain": [
       "80476"
      ]
     },
     "execution_count": 13,
     "metadata": {},
     "output_type": "execute_result"
    }
   ],
   "source": [
    "len(tok.word_index)\n"
   ]
  },
  {
   "cell_type": "code",
   "execution_count": 14,
   "id": "f31d43e7",
   "metadata": {},
   "outputs": [],
   "source": [
    "X_train = tok.texts_to_sequences(text_train)\n",
    "X_test = tok.texts_to_sequences(text_test)\n",
    "\n",
    "X_train = tf.keras.preprocessing.sequence.pad_sequences(X_train, maxlen=512, padding=\"post\")\n",
    "X_test = tf.keras.preprocessing.sequence.pad_sequences(X_test, maxlen=512, padding=\"post\")"
   ]
  },
  {
   "cell_type": "code",
   "execution_count": 15,
   "id": "af185e67",
   "metadata": {},
   "outputs": [
    {
     "name": "stdout",
     "output_type": "stream",
     "text": [
      "Model: \"sequential\"\n",
      "_________________________________________________________________\n",
      " Layer (type)                Output Shape              Param #   \n",
      "=================================================================\n",
      " embedding (Embedding)       (None, 512, 16)           1287632   \n",
      "                                                                 \n",
      " dropout (Dropout)           (None, 512, 16)           0         \n",
      "                                                                 \n",
      " global_average_pooling1d (  (None, 16)                0         \n",
      " GlobalAveragePooling1D)                                         \n",
      "                                                                 \n",
      " dropout_1 (Dropout)         (None, 16)                0         \n",
      "                                                                 \n",
      " dense (Dense)               (None, 1)                 17        \n",
      "                                                                 \n",
      "=================================================================\n",
      "Total params: 1287649 (4.91 MB)\n",
      "Trainable params: 1287649 (4.91 MB)\n",
      "Non-trainable params: 0 (0.00 Byte)\n",
      "_________________________________________________________________\n"
     ]
    }
   ],
   "source": [
    "model = tf.keras.Sequential([\n",
    "    layers.Embedding(input_dim=len(tok.index_word) + 1, output_dim=16, input_length=512),\n",
    "    layers.Dropout(0.2),\n",
    "    layers.GlobalAveragePooling1D(),\n",
    "    layers.Dropout(0.2),\n",
    "    layers.Dense(1, activation=\"sigmoid\")]\n",
    ")\n",
    "\n",
    "model.summary()"
   ]
  },
  {
   "cell_type": "code",
   "execution_count": 16,
   "id": "a407d2cd",
   "metadata": {},
   "outputs": [],
   "source": [
    "model.compile(loss=losses.BinaryCrossentropy(),\n",
    "              optimizer='adam',\n",
    "              metrics=tf.metrics.BinaryAccuracy(threshold=0.5))\n"
   ]
  },
  {
   "cell_type": "code",
   "execution_count": 17,
   "id": "b5e9520e",
   "metadata": {},
   "outputs": [
    {
     "name": "stdout",
     "output_type": "stream",
     "text": [
      "Epoch 1/20\n",
      "625/625 [==============================] - 86s 135ms/step - loss: 0.6786 - binary_accuracy: 0.6575 - val_loss: 0.6523 - val_binary_accuracy: 0.7720\n",
      "Epoch 2/20\n",
      "625/625 [==============================] - 40s 63ms/step - loss: 0.6030 - binary_accuracy: 0.7884 - val_loss: 0.5612 - val_binary_accuracy: 0.8056\n",
      "Epoch 3/20\n",
      "625/625 [==============================] - 21s 34ms/step - loss: 0.5047 - binary_accuracy: 0.8339 - val_loss: 0.4828 - val_binary_accuracy: 0.8256\n",
      "Epoch 4/20\n",
      "625/625 [==============================] - 17s 27ms/step - loss: 0.4271 - binary_accuracy: 0.8648 - val_loss: 0.4246 - val_binary_accuracy: 0.8488\n",
      "Epoch 5/20\n",
      "625/625 [==============================] - 13s 20ms/step - loss: 0.3688 - binary_accuracy: 0.8860 - val_loss: 0.3848 - val_binary_accuracy: 0.8574\n",
      "Epoch 6/20\n",
      "625/625 [==============================] - 10s 16ms/step - loss: 0.3256 - binary_accuracy: 0.8989 - val_loss: 0.3564 - val_binary_accuracy: 0.8648\n",
      "Epoch 7/20\n",
      "625/625 [==============================] - 6s 9ms/step - loss: 0.2922 - binary_accuracy: 0.9082 - val_loss: 0.3358 - val_binary_accuracy: 0.8706\n",
      "Epoch 8/20\n",
      "625/625 [==============================] - 5s 8ms/step - loss: 0.2645 - binary_accuracy: 0.9153 - val_loss: 0.3206 - val_binary_accuracy: 0.8734\n",
      "Epoch 9/20\n",
      "625/625 [==============================] - 6s 9ms/step - loss: 0.2430 - binary_accuracy: 0.9232 - val_loss: 0.3086 - val_binary_accuracy: 0.8766\n",
      "Epoch 10/20\n",
      "625/625 [==============================] - 5s 8ms/step - loss: 0.2229 - binary_accuracy: 0.9296 - val_loss: 0.2998 - val_binary_accuracy: 0.8806\n",
      "Epoch 11/20\n",
      "625/625 [==============================] - 4s 7ms/step - loss: 0.2062 - binary_accuracy: 0.9360 - val_loss: 0.2926 - val_binary_accuracy: 0.8826\n",
      "Epoch 12/20\n",
      "625/625 [==============================] - 5s 8ms/step - loss: 0.1907 - binary_accuracy: 0.9409 - val_loss: 0.2888 - val_binary_accuracy: 0.8854\n",
      "Epoch 13/20\n",
      "625/625 [==============================] - 5s 7ms/step - loss: 0.1765 - binary_accuracy: 0.9473 - val_loss: 0.2840 - val_binary_accuracy: 0.8858\n",
      "Epoch 14/20\n",
      "625/625 [==============================] - 4s 7ms/step - loss: 0.1651 - binary_accuracy: 0.9499 - val_loss: 0.2853 - val_binary_accuracy: 0.8860\n",
      "Epoch 15/20\n",
      "625/625 [==============================] - 4s 6ms/step - loss: 0.1523 - binary_accuracy: 0.9532 - val_loss: 0.2805 - val_binary_accuracy: 0.8880\n",
      "Epoch 16/20\n",
      "625/625 [==============================] - 3s 5ms/step - loss: 0.1427 - binary_accuracy: 0.9578 - val_loss: 0.2816 - val_binary_accuracy: 0.8892\n",
      "Epoch 17/20\n",
      "625/625 [==============================] - 4s 6ms/step - loss: 0.1325 - binary_accuracy: 0.9608 - val_loss: 0.2761 - val_binary_accuracy: 0.8894\n",
      "Epoch 18/20\n",
      "625/625 [==============================] - 3s 5ms/step - loss: 0.1234 - binary_accuracy: 0.9639 - val_loss: 0.2774 - val_binary_accuracy: 0.8898\n",
      "Epoch 19/20\n",
      "625/625 [==============================] - 4s 6ms/step - loss: 0.1147 - binary_accuracy: 0.9665 - val_loss: 0.2794 - val_binary_accuracy: 0.8914\n",
      "Epoch 20/20\n",
      "625/625 [==============================] - 3s 5ms/step - loss: 0.1071 - binary_accuracy: 0.9696 - val_loss: 0.2780 - val_binary_accuracy: 0.8936\n"
     ]
    }
   ],
   "source": [
    "epochs = 20\n",
    "history = model.fit(\n",
    "    X_train, y_train,\n",
    "    validation_data=(X_test, y_test),\n",
    "    epochs=epochs)"
   ]
  },
  {
   "cell_type": "code",
   "execution_count": 18,
   "id": "4cd93ed2",
   "metadata": {},
   "outputs": [],
   "source": [
    "X_train = tok.texts_to_sequences(text_train)\n",
    "X_test = tok.texts_to_sequences(text_test)\n",
    "\n",
    "X_train = tf.keras.preprocessing.sequence.pad_sequences(X_train, maxlen=128, padding=\"post\")\n",
    "X_test = tf.keras.preprocessing.sequence.pad_sequences(X_test, maxlen=128, padding=\"post\")"
   ]
  },
  {
   "cell_type": "code",
   "execution_count": 19,
   "id": "e85f7dfa",
   "metadata": {},
   "outputs": [
    {
     "name": "stdout",
     "output_type": "stream",
     "text": [
      "Model: \"sequential_1\"\n",
      "_________________________________________________________________\n",
      " Layer (type)                Output Shape              Param #   \n",
      "=================================================================\n",
      " embedding_1 (Embedding)     (None, 128, 64)           5150528   \n",
      "                                                                 \n",
      " dropout_2 (Dropout)         (None, 128, 64)           0         \n",
      "                                                                 \n",
      " lstm (LSTM)                 (None, 64)                33024     \n",
      "                                                                 \n",
      " dropout_3 (Dropout)         (None, 64)                0         \n",
      "                                                                 \n",
      " dense_1 (Dense)             (None, 1)                 65        \n",
      "                                                                 \n",
      "=================================================================\n",
      "Total params: 5183617 (19.77 MB)\n",
      "Trainable params: 5183617 (19.77 MB)\n",
      "Non-trainable params: 0 (0.00 Byte)\n",
      "_________________________________________________________________\n"
     ]
    }
   ],
   "source": [
    "model = tf.keras.Sequential([\n",
    "    layers.Embedding(input_dim=len(tok.index_word) + 1, output_dim=64, input_length=128),\n",
    "    layers.Dropout(0.2),\n",
    "    layers.LSTM(64, return_sequences=False),\n",
    "    layers.Dropout(0.2),\n",
    "    layers.Dense(1, activation=\"sigmoid\")]\n",
    ")\n",
    "\n",
    "model.summary()"
   ]
  },
  {
   "cell_type": "code",
   "execution_count": 20,
   "id": "c605c71c",
   "metadata": {},
   "outputs": [],
   "source": [
    "model.compile(loss=losses.BinaryCrossentropy(),\n",
    "              optimizer='adam',\n",
    "              metrics=tf.metrics.BinaryAccuracy(threshold=0.5))\n"
   ]
  },
  {
   "cell_type": "code",
   "execution_count": 21,
   "id": "08d2c39b",
   "metadata": {},
   "outputs": [
    {
     "name": "stdout",
     "output_type": "stream",
     "text": [
      "Epoch 1/20\n",
      "625/625 [==============================] - 55s 85ms/step - loss: 0.4344 - binary_accuracy: 0.7897 - val_loss: 0.3281 - val_binary_accuracy: 0.8568\n",
      "Epoch 2/20\n",
      "625/625 [==============================] - 13s 21ms/step - loss: 0.2124 - binary_accuracy: 0.9250 - val_loss: 0.3341 - val_binary_accuracy: 0.8660\n",
      "Epoch 3/20\n",
      "625/625 [==============================] - 9s 14ms/step - loss: 0.1158 - binary_accuracy: 0.9645 - val_loss: 0.3863 - val_binary_accuracy: 0.8562\n",
      "Epoch 4/20\n",
      "625/625 [==============================] - 9s 15ms/step - loss: 0.0761 - binary_accuracy: 0.9776 - val_loss: 0.5091 - val_binary_accuracy: 0.8512\n",
      "Epoch 5/20\n",
      "625/625 [==============================] - 7s 11ms/step - loss: 0.0579 - binary_accuracy: 0.9836 - val_loss: 0.5694 - val_binary_accuracy: 0.8430\n",
      "Epoch 6/20\n",
      "625/625 [==============================] - 6s 10ms/step - loss: 0.0530 - binary_accuracy: 0.9858 - val_loss: 0.5987 - val_binary_accuracy: 0.8432\n",
      "Epoch 7/20\n",
      "625/625 [==============================] - 5s 9ms/step - loss: 0.0509 - binary_accuracy: 0.9858 - val_loss: 0.5847 - val_binary_accuracy: 0.8452\n",
      "Epoch 8/20\n",
      "625/625 [==============================] - 5s 9ms/step - loss: 0.0469 - binary_accuracy: 0.9862 - val_loss: 0.6143 - val_binary_accuracy: 0.8466\n",
      "Epoch 9/20\n",
      "625/625 [==============================] - 5s 8ms/step - loss: 0.0286 - binary_accuracy: 0.9926 - val_loss: 0.5796 - val_binary_accuracy: 0.8364\n",
      "Epoch 10/20\n",
      "625/625 [==============================] - 5s 9ms/step - loss: 0.0514 - binary_accuracy: 0.9860 - val_loss: 0.6176 - val_binary_accuracy: 0.8442\n",
      "Epoch 11/20\n",
      "625/625 [==============================] - 5s 8ms/step - loss: 0.0299 - binary_accuracy: 0.9912 - val_loss: 0.7115 - val_binary_accuracy: 0.8484\n",
      "Epoch 12/20\n",
      "625/625 [==============================] - 5s 8ms/step - loss: 0.0186 - binary_accuracy: 0.9954 - val_loss: 0.7997 - val_binary_accuracy: 0.8444\n",
      "Epoch 13/20\n",
      "625/625 [==============================] - 5s 7ms/step - loss: 0.0172 - binary_accuracy: 0.9959 - val_loss: 0.7797 - val_binary_accuracy: 0.8438\n",
      "Epoch 14/20\n",
      "625/625 [==============================] - 5s 8ms/step - loss: 0.0140 - binary_accuracy: 0.9969 - val_loss: 0.9150 - val_binary_accuracy: 0.8374\n",
      "Epoch 15/20\n",
      "625/625 [==============================] - 6s 9ms/step - loss: 0.0229 - binary_accuracy: 0.9940 - val_loss: 0.7087 - val_binary_accuracy: 0.8430\n",
      "Epoch 16/20\n",
      "625/625 [==============================] - 5s 8ms/step - loss: 0.0123 - binary_accuracy: 0.9970 - val_loss: 0.7578 - val_binary_accuracy: 0.8474\n",
      "Epoch 17/20\n",
      "625/625 [==============================] - 5s 8ms/step - loss: 0.0181 - binary_accuracy: 0.9948 - val_loss: 0.5897 - val_binary_accuracy: 0.8390\n",
      "Epoch 18/20\n",
      "625/625 [==============================] - 5s 7ms/step - loss: 0.0283 - binary_accuracy: 0.9916 - val_loss: 0.7144 - val_binary_accuracy: 0.8432\n",
      "Epoch 19/20\n",
      "625/625 [==============================] - 5s 8ms/step - loss: 0.0131 - binary_accuracy: 0.9969 - val_loss: 0.9132 - val_binary_accuracy: 0.8436\n",
      "Epoch 20/20\n",
      "625/625 [==============================] - 5s 7ms/step - loss: 0.0089 - binary_accuracy: 0.9979 - val_loss: 0.9694 - val_binary_accuracy: 0.8398\n"
     ]
    }
   ],
   "source": [
    "epochs = 20\n",
    "history = model.fit(\n",
    "    X_train, y_train,\n",
    "    validation_data=(X_test, y_test),\n",
    "    epochs=epochs)"
   ]
  },
  {
   "cell_type": "code",
   "execution_count": null,
   "id": "727cdc74",
   "metadata": {},
   "outputs": [],
   "source": []
  }
 ],
 "metadata": {
  "kernelspec": {
   "display_name": "conda_tensorflow2_p310",
   "language": "python",
   "name": "conda_tensorflow2_p310"
  },
  "language_info": {
   "codemirror_mode": {
    "name": "ipython",
    "version": 3
   },
   "file_extension": ".py",
   "mimetype": "text/x-python",
   "name": "python",
   "nbconvert_exporter": "python",
   "pygments_lexer": "ipython3",
   "version": "3.10.13"
  }
 },
 "nbformat": 4,
 "nbformat_minor": 5
}
